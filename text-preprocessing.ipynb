{
 "cells": [
  {
   "cell_type": "code",
   "execution_count": 1,
   "id": "70f94260-748a-4ca3-826a-a6d3aacacd2e",
   "metadata": {},
   "outputs": [],
   "source": [
    "import nltk\n",
    "from nltk import word_tokenize\n",
    "from nltk import ngrams\n",
    "from nltk.stem import PorterStemmer as ps, WordNetLemmatizer as lemmatizer\n",
    "from nltk.corpus import stopwords\n",
    "import pandas as pd"
   ]
  },
  {
   "cell_type": "code",
   "execution_count": 3,
   "id": "80e29654-243d-44af-bb32-dd81cd1e7182",
   "metadata": {},
   "outputs": [],
   "source": [
    "data = pd.read_csv(\"./tripadvisor_hotel_reviews.csv\")"
   ]
  },
  {
   "cell_type": "code",
   "execution_count": 4,
   "id": "96d6e5cd-6c0f-4d63-a9fa-162c88a9f8bd",
   "metadata": {},
   "outputs": [
    {
     "name": "stdout",
     "output_type": "stream",
     "text": [
      "<class 'pandas.core.frame.DataFrame'>\n",
      "RangeIndex: 109 entries, 0 to 108\n",
      "Data columns (total 2 columns):\n",
      " #   Column  Non-Null Count  Dtype \n",
      "---  ------  --------------  ----- \n",
      " 0   Review  109 non-null    object\n",
      " 1   Rating  109 non-null    int64 \n",
      "dtypes: int64(1), object(1)\n",
      "memory usage: 1.8+ KB\n"
     ]
    },
    {
     "data": {
      "text/html": [
       "<div>\n",
       "<style scoped>\n",
       "    .dataframe tbody tr th:only-of-type {\n",
       "        vertical-align: middle;\n",
       "    }\n",
       "\n",
       "    .dataframe tbody tr th {\n",
       "        vertical-align: top;\n",
       "    }\n",
       "\n",
       "    .dataframe thead th {\n",
       "        text-align: right;\n",
       "    }\n",
       "</style>\n",
       "<table border=\"1\" class=\"dataframe\">\n",
       "  <thead>\n",
       "    <tr style=\"text-align: right;\">\n",
       "      <th></th>\n",
       "      <th>Review</th>\n",
       "      <th>Rating</th>\n",
       "      <th>review_lowercase</th>\n",
       "    </tr>\n",
       "  </thead>\n",
       "  <tbody>\n",
       "    <tr>\n",
       "      <th>0</th>\n",
       "      <td>nice hotel expensive parking got good deal sta...</td>\n",
       "      <td>4</td>\n",
       "      <td>nice hotel expensive parking got good deal sta...</td>\n",
       "    </tr>\n",
       "    <tr>\n",
       "      <th>1</th>\n",
       "      <td>ok nothing special charge diamond member hilto...</td>\n",
       "      <td>2</td>\n",
       "      <td>ok nothing special charge diamond member hilto...</td>\n",
       "    </tr>\n",
       "    <tr>\n",
       "      <th>2</th>\n",
       "      <td>nice rooms not 4* experience hotel monaco seat...</td>\n",
       "      <td>3</td>\n",
       "      <td>nice rooms not 4* experience hotel monaco seat...</td>\n",
       "    </tr>\n",
       "    <tr>\n",
       "      <th>3</th>\n",
       "      <td>unique, great stay, wonderful time hotel monac...</td>\n",
       "      <td>5</td>\n",
       "      <td>unique, great stay, wonderful time hotel monac...</td>\n",
       "    </tr>\n",
       "    <tr>\n",
       "      <th>4</th>\n",
       "      <td>great stay great stay, went seahawk game aweso...</td>\n",
       "      <td>5</td>\n",
       "      <td>great stay great stay, went seahawk game aweso...</td>\n",
       "    </tr>\n",
       "  </tbody>\n",
       "</table>\n",
       "</div>"
      ],
      "text/plain": [
       "                                              Review  Rating  \\\n",
       "0  nice hotel expensive parking got good deal sta...       4   \n",
       "1  ok nothing special charge diamond member hilto...       2   \n",
       "2  nice rooms not 4* experience hotel monaco seat...       3   \n",
       "3  unique, great stay, wonderful time hotel monac...       5   \n",
       "4  great stay great stay, went seahawk game aweso...       5   \n",
       "\n",
       "                                    review_lowercase  \n",
       "0  nice hotel expensive parking got good deal sta...  \n",
       "1  ok nothing special charge diamond member hilto...  \n",
       "2  nice rooms not 4* experience hotel monaco seat...  \n",
       "3  unique, great stay, wonderful time hotel monac...  \n",
       "4  great stay great stay, went seahawk game aweso...  "
      ]
     },
     "execution_count": 4,
     "metadata": {},
     "output_type": "execute_result"
    }
   ],
   "source": [
    "data.info()\n",
    "\n",
    "data[\"review_lowercase\"] = data[\"Review\"].str.lower()\n",
    "data.head()"
   ]
  },
  {
   "cell_type": "code",
   "execution_count": 24,
   "id": "3d12b280-34ac-435c-8b16-b632dbd971a2",
   "metadata": {},
   "outputs": [],
   "source": [
    "stopwords = stopwords.words('english')\n",
    "stopwords.remove(\"not\")"
   ]
  },
  {
   "cell_type": "code",
   "execution_count": 39,
   "id": "e3c4dfd5-6a61-4262-9f84-3540d098f44f",
   "metadata": {},
   "outputs": [
    {
     "data": {
      "text/plain": [
       "0      nice hotel expensive parking got good deal sta...\n",
       "1      ok nothing special charge diamond member hilto...\n",
       "2      nice rooms not 4* experience hotel monaco seat...\n",
       "3      unique, great stay, wonderful time hotel monac...\n",
       "4      great stay great stay, went seahawk game aweso...\n",
       "                             ...                        \n",
       "104    fairmont hotel singapore splendid, stayed fair...\n",
       "105    great hotel stayed hotel night route perth chr...\n",
       "106    great hotel centre stayed 5 nights room overlo...\n",
       "107    great location great value great hotel husband...\n",
       "108    lovely hotel great location stayed vacation to...\n",
       "Name: review_no_stopwords, Length: 109, dtype: object"
      ]
     },
     "execution_count": 39,
     "metadata": {},
     "output_type": "execute_result"
    }
   ],
   "source": [
    "data['review_no_stopwords'] = data['review_lowercase'].str.split().apply(lambda words: ' '.join(\n",
    "        [w for w in words if w not in stopwords]\n",
    "    ))\n",
    "data['review_no_stopwords']"
   ]
  },
  {
   "cell_type": "code",
   "execution_count": 49,
   "id": "add13e85-bd62-44d4-b061-56d1b0085a5d",
   "metadata": {},
   "outputs": [
    {
     "data": {
      "text/plain": [
       "0      nice hotel expensive parking got good deal sta...\n",
       "1      ok nothing special charge diamond member hilto...\n",
       "2      nice rooms not 4star experience hotel monaco s...\n",
       "3      unique great stay wonderful time hotel monaco ...\n",
       "4      great stay great stay went seahawk game awesom...\n",
       "                             ...                        \n",
       "104    fairmont hotel singapore splendid stayed fairm...\n",
       "105    great hotel stayed hotel night route perth chr...\n",
       "106    great hotel centre stayed 5 nights room overlo...\n",
       "107    great location great value great hotel husband...\n",
       "108    lovely hotel great location stayed vacation to...\n",
       "Name: review_no_stopwords_no_punct, Length: 109, dtype: object"
      ]
     },
     "execution_count": 49,
     "metadata": {},
     "output_type": "execute_result"
    }
   ],
   "source": [
    "data['review_no_stopwords_no_punct'] = data['review_no_stopwords'].str.replace(\n",
    "    r'\\*',\n",
    "    'star',\n",
    "    regex=True\n",
    ")\n",
    "\n",
    "data['review_no_stopwords_no_punct'] = data['review_no_stopwords_no_punct'].str.replace(\n",
    "    r'[^\\w\\s]',\n",
    "    '',\n",
    "    regex=True\n",
    ")\n",
    "\n",
    "data['review_no_stopwords_no_punct']"
   ]
  },
  {
   "cell_type": "code",
   "execution_count": 57,
   "id": "1074ba00-2a16-4388-a3ca-7f6bf8518442",
   "metadata": {},
   "outputs": [
    {
     "data": {
      "text/plain": [
       "0      [nice, hotel, expensive, parking, got, good, d...\n",
       "1      [ok, nothing, special, charge, diamond, member...\n",
       "2      [nice, rooms, not, 4star, experience, hotel, m...\n",
       "3      [unique, great, stay, wonderful, time, hotel, ...\n",
       "4      [great, stay, great, stay, went, seahawk, game...\n",
       "                             ...                        \n",
       "104    [fairmont, hotel, singapore, splendid, stayed,...\n",
       "105    [great, hotel, stayed, hotel, night, route, pe...\n",
       "106    [great, hotel, centre, stayed, 5, nights, room...\n",
       "107    [great, location, great, value, great, hotel, ...\n",
       "108    [lovely, hotel, great, location, stayed, vacat...\n",
       "Name: tokenize, Length: 109, dtype: object"
      ]
     },
     "execution_count": 57,
     "metadata": {},
     "output_type": "execute_result"
    }
   ],
   "source": [
    "data['tokenize'] = data['review_no_stopwords_no_punct'].apply(word_tokenize)\n",
    "data['tokenize']"
   ]
  },
  {
   "cell_type": "code",
   "execution_count": 68,
   "id": "10d18b1a-1f67-4af9-a573-b2588fccc3ae",
   "metadata": {},
   "outputs": [
    {
     "data": {
      "text/plain": [
       "0      [nice, hotel, expens, park, got, good, deal, s...\n",
       "1      [ok, noth, special, charg, diamond, member, hi...\n",
       "2      [nice, room, not, 4star, experi, hotel, monaco...\n",
       "3      [uniqu, great, stay, wonder, time, hotel, mona...\n",
       "4      [great, stay, great, stay, went, seahawk, game...\n",
       "                             ...                        \n",
       "104    [fairmont, hotel, singapor, splendid, stay, fa...\n",
       "105    [great, hotel, stay, hotel, night, rout, perth...\n",
       "106    [great, hotel, centr, stay, 5, night, room, ov...\n",
       "107    [great, locat, great, valu, great, hotel, husb...\n",
       "108    [love, hotel, great, locat, stay, vacat, tour,...\n",
       "Name: stemmed, Length: 109, dtype: object"
      ]
     },
     "execution_count": 68,
     "metadata": {},
     "output_type": "execute_result"
    }
   ],
   "source": [
    "ps = PorterStemmer()\n",
    "data['stemmed'] = data['tokenize'].apply(\n",
    "    lambda tokens: [ps.stem(tok) for tok in tokens]\n",
    ")\n",
    "data['stemmed']"
   ]
  },
  {
   "cell_type": "code",
   "execution_count": 72,
   "id": "e6de8dc1-5a87-443d-82fd-28e07e09f3c8",
   "metadata": {},
   "outputs": [
    {
     "data": {
      "text/plain": [
       "0      [nice, hotel, expensive, parking, got, good, d...\n",
       "1      [ok, nothing, special, charge, diamond, member...\n",
       "2      [nice, room, not, 4star, experience, hotel, mo...\n",
       "3      [unique, great, stay, wonderful, time, hotel, ...\n",
       "4      [great, stay, great, stay, went, seahawk, game...\n",
       "                             ...                        \n",
       "104    [fairmont, hotel, singapore, splendid, stayed,...\n",
       "105    [great, hotel, stayed, hotel, night, route, pe...\n",
       "106    [great, hotel, centre, stayed, 5, night, room,...\n",
       "107    [great, location, great, value, great, hotel, ...\n",
       "108    [lovely, hotel, great, location, stayed, vacat...\n",
       "Name: lemmatized, Length: 109, dtype: object"
      ]
     },
     "execution_count": 72,
     "metadata": {},
     "output_type": "execute_result"
    }
   ],
   "source": [
    "lemmatizer = WordNetLemmatizer()\n",
    "\n",
    "data['lemmatized'] = data['tokenize'].apply(\n",
    "    lambda tokens: [lemmatizer.lemmatize(tok) for tok in tokens]\n",
    ")\n",
    "\n",
    "data['lemmatized']"
   ]
  },
  {
   "cell_type": "code",
   "execution_count": 82,
   "id": "7db68e33-1580-4639-88a2-209bba838fcf",
   "metadata": {},
   "outputs": [
    {
     "data": {
      "text/plain": [
       "lemmatized\n",
       "hotel           292\n",
       "room            275\n",
       "great           126\n",
       "not             122\n",
       "stay             95\n",
       "               ... \n",
       "175               1\n",
       "smackagainst      1\n",
       "2x                1\n",
       "80                1\n",
       "connected         1\n",
       "Name: count, Length: 2589, dtype: int64"
      ]
     },
     "execution_count": 82,
     "metadata": {},
     "output_type": "execute_result"
    }
   ],
   "source": [
    "tokens_series = data['lemmatized'].explode()\n",
    "tokens_series.value_counts()"
   ]
  },
  {
   "cell_type": "code",
   "execution_count": 108,
   "id": "e5badca9-19ce-448b-afa8-f3cbcc227b2f",
   "metadata": {},
   "outputs": [],
   "source": [
    "tokens_clean = sum(data['lemmatized'], [])"
   ]
  },
  {
   "cell_type": "code",
   "execution_count": 2,
   "id": "6b8ad6ea-387d-4fcc-ad79-9b3612c772de",
   "metadata": {},
   "outputs": [
    {
     "ename": "NameError",
     "evalue": "name 'tokens_series' is not defined",
     "output_type": "error",
     "traceback": [
      "\u001b[31m---------------------------------------------------------------------------\u001b[39m",
      "\u001b[31mNameError\u001b[39m                                 Traceback (most recent call last)",
      "\u001b[36mCell\u001b[39m\u001b[36m \u001b[39m\u001b[32mIn[2]\u001b[39m\u001b[32m, line 1\u001b[39m\n\u001b[32m----> \u001b[39m\u001b[32m1\u001b[39m bigrams = (pd.Series(ngrams(\u001b[43mtokens_series\u001b[49m, \u001b[32m2\u001b[39m)).value_counts())\n\u001b[32m      2\u001b[39m bigrams\n",
      "\u001b[31mNameError\u001b[39m: name 'tokens_series' is not defined"
     ]
    }
   ],
   "source": [
    "bigrams = (pd.Series(ngrams(tokens_series, 2)).value_counts())\n",
    "bigrams"
   ]
  }
 ],
 "metadata": {
  "kernelspec": {
   "display_name": "Python 3 (ipykernel)",
   "language": "python",
   "name": "python3"
  },
  "language_info": {
   "codemirror_mode": {
    "name": "ipython",
    "version": 3
   },
   "file_extension": ".py",
   "mimetype": "text/x-python",
   "name": "python",
   "nbconvert_exporter": "python",
   "pygments_lexer": "ipython3",
   "version": "3.11.13"
  }
 },
 "nbformat": 4,
 "nbformat_minor": 5
}
