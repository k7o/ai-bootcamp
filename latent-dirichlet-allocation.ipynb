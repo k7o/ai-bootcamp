{
 "cells": [
  {
   "cell_type": "code",
   "execution_count": 2,
   "id": "e730e638-c8eb-478f-8aa0-d92a320ed4ee",
   "metadata": {},
   "outputs": [],
   "source": [
    "import pandas as pd\n",
    "import re\n",
    "from nltk.corpus import stopwords\n",
    "from nltk.tokenize import word_tokenize\n",
    "from nltk.stem import PorterStemmer\n",
    "import gensim\n",
    "import gensim.corpora as corpora"
   ]
  },
  {
   "cell_type": "code",
   "execution_count": 3,
   "id": "61ef0d21-88ac-4e90-9f05-26e87fec8404",
   "metadata": {},
   "outputs": [
    {
     "data": {
      "text/html": [
       "<div>\n",
       "<style scoped>\n",
       "    .dataframe tbody tr th:only-of-type {\n",
       "        vertical-align: middle;\n",
       "    }\n",
       "\n",
       "    .dataframe tbody tr th {\n",
       "        vertical-align: top;\n",
       "    }\n",
       "\n",
       "    .dataframe thead th {\n",
       "        text-align: right;\n",
       "    }\n",
       "</style>\n",
       "<table border=\"1\" class=\"dataframe\">\n",
       "  <thead>\n",
       "    <tr style=\"text-align: right;\">\n",
       "      <th></th>\n",
       "      <th>id</th>\n",
       "      <th>title</th>\n",
       "      <th>content</th>\n",
       "    </tr>\n",
       "  </thead>\n",
       "  <tbody>\n",
       "    <tr>\n",
       "      <th>0</th>\n",
       "      <td>25626</td>\n",
       "      <td>One Weight-Loss Approach Fits All? No, Not Eve...</td>\n",
       "      <td>Dr. Frank Sacks, a professor of nutrition at H...</td>\n",
       "    </tr>\n",
       "    <tr>\n",
       "      <th>1</th>\n",
       "      <td>19551</td>\n",
       "      <td>South Carolina Stuns Baylor to Reach the Round...</td>\n",
       "      <td>South Carolina’s win over   Duke was not only ...</td>\n",
       "    </tr>\n",
       "    <tr>\n",
       "      <th>2</th>\n",
       "      <td>25221</td>\n",
       "      <td>U.S. Presidential Race, Apple, Gene Wilder: Yo...</td>\n",
       "      <td>(Want to get this briefing by email? Here’s th...</td>\n",
       "    </tr>\n",
       "    <tr>\n",
       "      <th>3</th>\n",
       "      <td>18026</td>\n",
       "      <td>His Predecessor Gone, Gambia’s New President F...</td>\n",
       "      <td>BANJUL, Gambia  —   A week after he was inaugu...</td>\n",
       "    </tr>\n",
       "    <tr>\n",
       "      <th>4</th>\n",
       "      <td>21063</td>\n",
       "      <td>‘Harry Potter and the Cursed Child’ Goes From ...</td>\n",
       "      <td>The biggest book of the summer isn’t a blockbu...</td>\n",
       "    </tr>\n",
       "  </tbody>\n",
       "</table>\n",
       "</div>"
      ],
      "text/plain": [
       "      id                                              title  \\\n",
       "0  25626  One Weight-Loss Approach Fits All? No, Not Eve...   \n",
       "1  19551  South Carolina Stuns Baylor to Reach the Round...   \n",
       "2  25221  U.S. Presidential Race, Apple, Gene Wilder: Yo...   \n",
       "3  18026  His Predecessor Gone, Gambia’s New President F...   \n",
       "4  21063  ‘Harry Potter and the Cursed Child’ Goes From ...   \n",
       "\n",
       "                                             content  \n",
       "0  Dr. Frank Sacks, a professor of nutrition at H...  \n",
       "1  South Carolina’s win over   Duke was not only ...  \n",
       "2  (Want to get this briefing by email? Here’s th...  \n",
       "3  BANJUL, Gambia  —   A week after he was inaugu...  \n",
       "4  The biggest book of the summer isn’t a blockbu...  "
      ]
     },
     "execution_count": 3,
     "metadata": {},
     "output_type": "execute_result"
    }
   ],
   "source": [
    "data = pd.read_csv(\"news_articles.csv\")\n",
    "data.head()"
   ]
  },
  {
   "cell_type": "code",
   "execution_count": 5,
   "id": "b91903a1-2020-4a1b-b792-4edf1ecfa12b",
   "metadata": {},
   "outputs": [
    {
     "name": "stdout",
     "output_type": "stream",
     "text": [
      "<class 'pandas.core.frame.DataFrame'>\n",
      "RangeIndex: 100 entries, 0 to 99\n",
      "Data columns (total 3 columns):\n",
      " #   Column   Non-Null Count  Dtype \n",
      "---  ------   --------------  ----- \n",
      " 0   id       100 non-null    int64 \n",
      " 1   title    100 non-null    object\n",
      " 2   content  100 non-null    object\n",
      "dtypes: int64(1), object(2)\n",
      "memory usage: 2.5+ KB\n"
     ]
    }
   ],
   "source": [
    "data.info()"
   ]
  },
  {
   "cell_type": "code",
   "execution_count": 17,
   "id": "036c957f-9215-48b1-a3c6-7f1f17bbe1fa",
   "metadata": {},
   "outputs": [],
   "source": [
    "articles = data[\"content\"]"
   ]
  },
  {
   "cell_type": "code",
   "execution_count": 18,
   "id": "d99502f3-eabe-43bd-98cc-67a104954437",
   "metadata": {},
   "outputs": [
    {
     "data": {
      "text/plain": [
       "0    [dr, frank, sack, professor, nutrit, harvard, ...\n",
       "1    [south, carolina, win, duke, surpris, fan, pos...\n",
       "2    [want, get, brief, email, here, good, even, he...\n",
       "3    [banjul, gambia, week, inaugur, anoth, countri...\n",
       "4    [biggest, book, summer, isnt, blockbust, thril...\n",
       "5    [indianapoli, senat, ted, cruz, texa, desper, ...\n",
       "6    [west, palm, beach, fla, donald, j, trump, ran...\n",
       "7    [year, could, end, without, littl, bit, taylor...\n",
       "8    [washington, speaker, paul, ryan, deliv, parti...\n",
       "9    [washington, report, death, islam, state, seni...\n",
       "Name: content, dtype: object"
      ]
     },
     "execution_count": 18,
     "metadata": {},
     "output_type": "execute_result"
    }
   ],
   "source": [
    "articles = articles.str.lower().replace(r'[^\\w\\s]', '', regex=True)\n",
    "\n",
    "en_stopwords = stopwords.words('english')\n",
    "articles = articles.apply(lambda words: ' '.join(\n",
    "        [w for w in words.split() if w not in en_stopwords]\n",
    "    ))\n",
    "\n",
    "articles = articles.apply(lambda x: word_tokenize(x))\n",
    "\n",
    "ps = PorterStemmer()\n",
    "\n",
    "articles = articles.apply(lambda tokens: [ps.stem(token) for token in tokens])\n",
    "articles.head(10)"
   ]
  },
  {
   "cell_type": "code",
   "execution_count": 20,
   "id": "f1ddafb4-2ded-4d3e-8a16-963da6809056",
   "metadata": {},
   "outputs": [
    {
     "name": "stdout",
     "output_type": "stream",
     "text": [
      "Dictionary<8693 unique tokens: ['10', '100', '108', '15', '155']...>\n"
     ]
    }
   ],
   "source": [
    "dictionary = corpora.Dictionary(articles)\n",
    "print(dictionary)"
   ]
  },
  {
   "cell_type": "code",
   "execution_count": 21,
   "id": "65accfdf-454a-4d38-84df-541b92b28d61",
   "metadata": {},
   "outputs": [],
   "source": [
    "doc_term = [dictionary.doc2bow(text) for text in articles]"
   ]
  },
  {
   "cell_type": "code",
   "execution_count": 23,
   "id": "29e00d00-387d-45c2-af71-a8f076121acd",
   "metadata": {},
   "outputs": [],
   "source": [
    "num_topics = 2"
   ]
  },
  {
   "cell_type": "code",
   "execution_count": 26,
   "id": "93e47ce2-4e9e-4fc8-8dfc-0f52de202ef3",
   "metadata": {},
   "outputs": [],
   "source": [
    "lda_model = gensim.models.LdaModel(corpus=doc_term,\n",
    "                                    id2word=dictionary,\n",
    "                                    num_topics=num_topics)"
   ]
  },
  {
   "cell_type": "code",
   "execution_count": 27,
   "id": "910f2882-fa7e-40ba-a9b0-2edfa9f52cbe",
   "metadata": {},
   "outputs": [
    {
     "data": {
      "text/plain": [
       "[(0,\n",
       "  '0.016*\"mr\" + 0.015*\"said\" + 0.006*\"trump\" + 0.005*\"would\" + 0.005*\"year\"'),\n",
       " (1,\n",
       "  '0.017*\"mr\" + 0.015*\"said\" + 0.005*\"trump\" + 0.004*\"state\" + 0.004*\"one\"')]"
      ]
     },
     "execution_count": 27,
     "metadata": {},
     "output_type": "execute_result"
    }
   ],
   "source": [
    "lda_model.print_topics(num_topics, num_words=5)"
   ]
  },
  {
   "cell_type": "code",
   "execution_count": null,
   "id": "6fd63766-08d3-4e30-86e7-3ece77f9a45b",
   "metadata": {},
   "outputs": [],
   "source": []
  }
 ],
 "metadata": {
  "kernelspec": {
   "display_name": "Python 3 (ipykernel)",
   "language": "python",
   "name": "python3"
  },
  "language_info": {
   "codemirror_mode": {
    "name": "ipython",
    "version": 3
   },
   "file_extension": ".py",
   "mimetype": "text/x-python",
   "name": "python",
   "nbconvert_exporter": "python",
   "pygments_lexer": "ipython3",
   "version": "3.11.13"
  }
 },
 "nbformat": 4,
 "nbformat_minor": 5
}
