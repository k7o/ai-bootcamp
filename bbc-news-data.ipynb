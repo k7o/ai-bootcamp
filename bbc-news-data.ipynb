{
 "cells": [
  {
   "cell_type": "code",
   "execution_count": 49,
   "id": "2a5c006a-fbbf-4d3a-a010-e1ec5d57f21d",
   "metadata": {},
   "outputs": [],
   "source": [
    "import nltk\n",
    "from nltk import word_tokenize\n",
    "from nltk import ngrams\n",
    "from nltk.stem import PorterStemmer as ps, WordNetLemmatizer\n",
    "from nltk.corpus import stopwords\n",
    "import pandas as pd"
   ]
  },
  {
   "cell_type": "code",
   "execution_count": 26,
   "id": "7d50edbc-444a-4cbf-9416-69df4be20fb8",
   "metadata": {},
   "outputs": [],
   "source": [
    "BBC_data = pd.read_csv('bbc_news.csv')"
   ]
  },
  {
   "cell_type": "code",
   "execution_count": 27,
   "id": "cf5d47d2-22f7-4858-b1f0-393eb6b634c8",
   "metadata": {},
   "outputs": [
    {
     "data": {
      "text/html": [
       "<div>\n",
       "<style scoped>\n",
       "    .dataframe tbody tr th:only-of-type {\n",
       "        vertical-align: middle;\n",
       "    }\n",
       "\n",
       "    .dataframe tbody tr th {\n",
       "        vertical-align: top;\n",
       "    }\n",
       "\n",
       "    .dataframe thead th {\n",
       "        text-align: right;\n",
       "    }\n",
       "</style>\n",
       "<table border=\"1\" class=\"dataframe\">\n",
       "  <thead>\n",
       "    <tr style=\"text-align: right;\">\n",
       "      <th></th>\n",
       "      <th>Unnamed: 0</th>\n",
       "      <th>index</th>\n",
       "      <th>title</th>\n",
       "      <th>pubDate</th>\n",
       "      <th>guid</th>\n",
       "      <th>link</th>\n",
       "      <th>description</th>\n",
       "    </tr>\n",
       "  </thead>\n",
       "  <tbody>\n",
       "    <tr>\n",
       "      <th>0</th>\n",
       "      <td>0</td>\n",
       "      <td>6684</td>\n",
       "      <td>Can I refuse to work?</td>\n",
       "      <td>Wed, 10 Aug 2022 15:46:18 GMT</td>\n",
       "      <td>https://www.bbc.co.uk/news/business-62147992</td>\n",
       "      <td>https://www.bbc.co.uk/news/business-62147992?a...</td>\n",
       "      <td>With much of the UK enduring another period of...</td>\n",
       "    </tr>\n",
       "    <tr>\n",
       "      <th>1</th>\n",
       "      <td>1</td>\n",
       "      <td>9267</td>\n",
       "      <td>'Liz Truss the Brief?' World reacts to UK poli...</td>\n",
       "      <td>Mon, 17 Oct 2022 11:35:12 GMT</td>\n",
       "      <td>https://www.bbc.co.uk/news/world-63285480</td>\n",
       "      <td>https://www.bbc.co.uk/news/world-63285480?at_m...</td>\n",
       "      <td>The UK's political chaos has been watched arou...</td>\n",
       "    </tr>\n",
       "    <tr>\n",
       "      <th>2</th>\n",
       "      <td>2</td>\n",
       "      <td>7387</td>\n",
       "      <td>Rationing energy is nothing new for off-grid c...</td>\n",
       "      <td>Wed, 31 Aug 2022 05:20:18 GMT</td>\n",
       "      <td>https://www.bbc.co.uk/news/uk-scotland-highlan...</td>\n",
       "      <td>https://www.bbc.co.uk/news/uk-scotland-highlan...</td>\n",
       "      <td>Scoraig in the north west Highlands has long h...</td>\n",
       "    </tr>\n",
       "    <tr>\n",
       "      <th>3</th>\n",
       "      <td>3</td>\n",
       "      <td>767</td>\n",
       "      <td>The hunt for superyachts of sanctioned Russian...</td>\n",
       "      <td>Tue, 22 Mar 2022 14:37:01 GMT</td>\n",
       "      <td>https://www.bbc.co.uk/news/60739336</td>\n",
       "      <td>https://www.bbc.co.uk/news/60739336?at_medium=...</td>\n",
       "      <td>Wealthy Russians sanctioned by the US, EU and ...</td>\n",
       "    </tr>\n",
       "    <tr>\n",
       "      <th>4</th>\n",
       "      <td>4</td>\n",
       "      <td>3712</td>\n",
       "      <td>Platinum Jubilee: 70 years of the Queen in 70 ...</td>\n",
       "      <td>Wed, 01 Jun 2022 23:17:33 GMT</td>\n",
       "      <td>https://www.bbc.co.uk/news/uk-61660128</td>\n",
       "      <td>https://www.bbc.co.uk/news/uk-61660128?at_medi...</td>\n",
       "      <td>A quick look back at the Queen's 70 years on t...</td>\n",
       "    </tr>\n",
       "  </tbody>\n",
       "</table>\n",
       "</div>"
      ],
      "text/plain": [
       "   Unnamed: 0  index                                              title  \\\n",
       "0           0   6684                              Can I refuse to work?   \n",
       "1           1   9267  'Liz Truss the Brief?' World reacts to UK poli...   \n",
       "2           2   7387  Rationing energy is nothing new for off-grid c...   \n",
       "3           3    767  The hunt for superyachts of sanctioned Russian...   \n",
       "4           4   3712  Platinum Jubilee: 70 years of the Queen in 70 ...   \n",
       "\n",
       "                         pubDate  \\\n",
       "0  Wed, 10 Aug 2022 15:46:18 GMT   \n",
       "1  Mon, 17 Oct 2022 11:35:12 GMT   \n",
       "2  Wed, 31 Aug 2022 05:20:18 GMT   \n",
       "3  Tue, 22 Mar 2022 14:37:01 GMT   \n",
       "4  Wed, 01 Jun 2022 23:17:33 GMT   \n",
       "\n",
       "                                                guid  \\\n",
       "0       https://www.bbc.co.uk/news/business-62147992   \n",
       "1          https://www.bbc.co.uk/news/world-63285480   \n",
       "2  https://www.bbc.co.uk/news/uk-scotland-highlan...   \n",
       "3                https://www.bbc.co.uk/news/60739336   \n",
       "4             https://www.bbc.co.uk/news/uk-61660128   \n",
       "\n",
       "                                                link  \\\n",
       "0  https://www.bbc.co.uk/news/business-62147992?a...   \n",
       "1  https://www.bbc.co.uk/news/world-63285480?at_m...   \n",
       "2  https://www.bbc.co.uk/news/uk-scotland-highlan...   \n",
       "3  https://www.bbc.co.uk/news/60739336?at_medium=...   \n",
       "4  https://www.bbc.co.uk/news/uk-61660128?at_medi...   \n",
       "\n",
       "                                         description  \n",
       "0  With much of the UK enduring another period of...  \n",
       "1  The UK's political chaos has been watched arou...  \n",
       "2  Scoraig in the north west Highlands has long h...  \n",
       "3  Wealthy Russians sanctioned by the US, EU and ...  \n",
       "4  A quick look back at the Queen's 70 years on t...  "
      ]
     },
     "execution_count": 27,
     "metadata": {},
     "output_type": "execute_result"
    }
   ],
   "source": [
    "BBC_data.head()"
   ]
  },
  {
   "cell_type": "code",
   "execution_count": 28,
   "id": "13c1eb05-af60-474f-aa57-6a21c369b8b4",
   "metadata": {},
   "outputs": [
    {
     "name": "stdout",
     "output_type": "stream",
     "text": [
      "<class 'pandas.core.frame.DataFrame'>\n",
      "RangeIndex: 1000 entries, 0 to 999\n",
      "Data columns (total 7 columns):\n",
      " #   Column       Non-Null Count  Dtype \n",
      "---  ------       --------------  ----- \n",
      " 0   Unnamed: 0   1000 non-null   int64 \n",
      " 1   index        1000 non-null   int64 \n",
      " 2   title        1000 non-null   object\n",
      " 3   pubDate      1000 non-null   object\n",
      " 4   guid         1000 non-null   object\n",
      " 5   link         1000 non-null   object\n",
      " 6   description  1000 non-null   object\n",
      "dtypes: int64(2), object(5)\n",
      "memory usage: 54.8+ KB\n"
     ]
    }
   ],
   "source": [
    "BBC_data.info()"
   ]
  },
  {
   "cell_type": "code",
   "execution_count": 29,
   "id": "ae1f962b-9697-4c99-8220-12996cb02baf",
   "metadata": {},
   "outputs": [
    {
     "data": {
      "text/plain": [
       "0                                Can I refuse to work?\n",
       "1    'Liz Truss the Brief?' World reacts to UK poli...\n",
       "2    Rationing energy is nothing new for off-grid c...\n",
       "3    The hunt for superyachts of sanctioned Russian...\n",
       "4    Platinum Jubilee: 70 years of the Queen in 70 ...\n",
       "Name: title, dtype: object"
      ]
     },
     "execution_count": 29,
     "metadata": {},
     "output_type": "execute_result"
    }
   ],
   "source": [
    "titles = BBC_data[\"title\"]\n",
    "titles.head()"
   ]
  },
  {
   "cell_type": "code",
   "execution_count": 52,
   "id": "29788a17-ba98-47a1-b672-08ebc9ecf7a6",
   "metadata": {},
   "outputs": [
    {
     "ename": "TypeError",
     "evalue": "'float' object is not iterable",
     "output_type": "error",
     "traceback": [
      "\u001b[31m---------------------------------------------------------------------------\u001b[39m",
      "\u001b[31mTypeError\u001b[39m                                 Traceback (most recent call last)",
      "\u001b[36mCell\u001b[39m\u001b[36m \u001b[39m\u001b[32mIn[52]\u001b[39m\u001b[32m, line 3\u001b[39m\n\u001b[32m      1\u001b[39m sw = stopwords.words(\u001b[33m'\u001b[39m\u001b[33menglish\u001b[39m\u001b[33m'\u001b[39m)\n\u001b[32m      2\u001b[39m titles_lower = titles.str.lower()\n\u001b[32m----> \u001b[39m\u001b[32m3\u001b[39m titles_nostopwords = \u001b[43mtitles_lower\u001b[49m\u001b[43m.\u001b[49m\u001b[43mstr\u001b[49m\u001b[43m.\u001b[49m\u001b[43msplit\u001b[49m\u001b[43m(\u001b[49m\u001b[43m)\u001b[49m\u001b[43m.\u001b[49m\u001b[43mapply\u001b[49m\u001b[43m(\u001b[49m\u001b[38;5;28;43;01mlambda\u001b[39;49;00m\u001b[43m \u001b[49m\u001b[43mwords\u001b[49m\u001b[43m:\u001b[49m\u001b[43m \u001b[49m\u001b[33;43m'\u001b[39;49m\u001b[33;43m \u001b[39;49m\u001b[33;43m'\u001b[39;49m\u001b[43m.\u001b[49m\u001b[43mjoin\u001b[49m\u001b[43m(\u001b[49m\n\u001b[32m      4\u001b[39m \u001b[43m        \u001b[49m\u001b[43m[\u001b[49m\u001b[43mw\u001b[49m\u001b[43m \u001b[49m\u001b[38;5;28;43;01mfor\u001b[39;49;00m\u001b[43m \u001b[49m\u001b[43mw\u001b[49m\u001b[43m \u001b[49m\u001b[38;5;129;43;01min\u001b[39;49;00m\u001b[43m \u001b[49m\u001b[43mwords\u001b[49m\u001b[43m \u001b[49m\u001b[38;5;28;43;01mif\u001b[39;49;00m\u001b[43m \u001b[49m\u001b[43mw\u001b[49m\u001b[43m \u001b[49m\u001b[38;5;129;43;01mnot\u001b[39;49;00m\u001b[43m \u001b[49m\u001b[38;5;129;43;01min\u001b[39;49;00m\u001b[43m \u001b[49m\u001b[43msw\u001b[49m\u001b[43m]\u001b[49m\n\u001b[32m      5\u001b[39m \u001b[43m    \u001b[49m\u001b[43m)\u001b[49m\u001b[43m)\u001b[49m\n\u001b[32m      6\u001b[39m titles_nopunctuation = titles_nostopwords.str.replace(\n\u001b[32m      7\u001b[39m     \u001b[33mr\u001b[39m\u001b[33m'\u001b[39m\u001b[33m[^\u001b[39m\u001b[33m\\\u001b[39m\u001b[33mw\u001b[39m\u001b[33m\\\u001b[39m\u001b[33ms]\u001b[39m\u001b[33m'\u001b[39m,\n\u001b[32m      8\u001b[39m     \u001b[33m'\u001b[39m\u001b[33m'\u001b[39m,\n\u001b[32m      9\u001b[39m     regex=\u001b[38;5;28;01mTrue\u001b[39;00m\n\u001b[32m     10\u001b[39m )\n\u001b[32m     11\u001b[39m titles_tokenized = titles_nopunctuation.apply(word_tokenize)\n",
      "\u001b[36mFile \u001b[39m\u001b[32m/opt/conda/envs/dev/lib/python3.11/site-packages/pandas/core/series.py:4935\u001b[39m, in \u001b[36mSeries.apply\u001b[39m\u001b[34m(self, func, convert_dtype, args, by_row, **kwargs)\u001b[39m\n\u001b[32m   4800\u001b[39m \u001b[38;5;28;01mdef\u001b[39;00m\u001b[38;5;250m \u001b[39m\u001b[34mapply\u001b[39m(\n\u001b[32m   4801\u001b[39m     \u001b[38;5;28mself\u001b[39m,\n\u001b[32m   4802\u001b[39m     func: AggFuncType,\n\u001b[32m   (...)\u001b[39m\u001b[32m   4807\u001b[39m     **kwargs,\n\u001b[32m   4808\u001b[39m ) -> DataFrame | Series:\n\u001b[32m   4809\u001b[39m \u001b[38;5;250m    \u001b[39m\u001b[33;03m\"\"\"\u001b[39;00m\n\u001b[32m   4810\u001b[39m \u001b[33;03m    Invoke function on values of Series.\u001b[39;00m\n\u001b[32m   4811\u001b[39m \n\u001b[32m   (...)\u001b[39m\u001b[32m   4926\u001b[39m \u001b[33;03m    dtype: float64\u001b[39;00m\n\u001b[32m   4927\u001b[39m \u001b[33;03m    \"\"\"\u001b[39;00m\n\u001b[32m   4928\u001b[39m     \u001b[38;5;28;01mreturn\u001b[39;00m \u001b[43mSeriesApply\u001b[49m\u001b[43m(\u001b[49m\n\u001b[32m   4929\u001b[39m \u001b[43m        \u001b[49m\u001b[38;5;28;43mself\u001b[39;49m\u001b[43m,\u001b[49m\n\u001b[32m   4930\u001b[39m \u001b[43m        \u001b[49m\u001b[43mfunc\u001b[49m\u001b[43m,\u001b[49m\n\u001b[32m   4931\u001b[39m \u001b[43m        \u001b[49m\u001b[43mconvert_dtype\u001b[49m\u001b[43m=\u001b[49m\u001b[43mconvert_dtype\u001b[49m\u001b[43m,\u001b[49m\n\u001b[32m   4932\u001b[39m \u001b[43m        \u001b[49m\u001b[43mby_row\u001b[49m\u001b[43m=\u001b[49m\u001b[43mby_row\u001b[49m\u001b[43m,\u001b[49m\n\u001b[32m   4933\u001b[39m \u001b[43m        \u001b[49m\u001b[43margs\u001b[49m\u001b[43m=\u001b[49m\u001b[43margs\u001b[49m\u001b[43m,\u001b[49m\n\u001b[32m   4934\u001b[39m \u001b[43m        \u001b[49m\u001b[43mkwargs\u001b[49m\u001b[43m=\u001b[49m\u001b[43mkwargs\u001b[49m\u001b[43m,\u001b[49m\n\u001b[32m-> \u001b[39m\u001b[32m4935\u001b[39m \u001b[43m    \u001b[49m\u001b[43m)\u001b[49m\u001b[43m.\u001b[49m\u001b[43mapply\u001b[49m\u001b[43m(\u001b[49m\u001b[43m)\u001b[49m\n",
      "\u001b[36mFile \u001b[39m\u001b[32m/opt/conda/envs/dev/lib/python3.11/site-packages/pandas/core/apply.py:1422\u001b[39m, in \u001b[36mSeriesApply.apply\u001b[39m\u001b[34m(self)\u001b[39m\n\u001b[32m   1419\u001b[39m     \u001b[38;5;28;01mreturn\u001b[39;00m \u001b[38;5;28mself\u001b[39m.apply_compat()\n\u001b[32m   1421\u001b[39m \u001b[38;5;66;03m# self.func is Callable\u001b[39;00m\n\u001b[32m-> \u001b[39m\u001b[32m1422\u001b[39m \u001b[38;5;28;01mreturn\u001b[39;00m \u001b[38;5;28;43mself\u001b[39;49m\u001b[43m.\u001b[49m\u001b[43mapply_standard\u001b[49m\u001b[43m(\u001b[49m\u001b[43m)\u001b[49m\n",
      "\u001b[36mFile \u001b[39m\u001b[32m/opt/conda/envs/dev/lib/python3.11/site-packages/pandas/core/apply.py:1502\u001b[39m, in \u001b[36mSeriesApply.apply_standard\u001b[39m\u001b[34m(self)\u001b[39m\n\u001b[32m   1496\u001b[39m \u001b[38;5;66;03m# row-wise access\u001b[39;00m\n\u001b[32m   1497\u001b[39m \u001b[38;5;66;03m# apply doesn't have a `na_action` keyword and for backward compat reasons\u001b[39;00m\n\u001b[32m   1498\u001b[39m \u001b[38;5;66;03m# we need to give `na_action=\"ignore\"` for categorical data.\u001b[39;00m\n\u001b[32m   1499\u001b[39m \u001b[38;5;66;03m# TODO: remove the `na_action=\"ignore\"` when that default has been changed in\u001b[39;00m\n\u001b[32m   1500\u001b[39m \u001b[38;5;66;03m#  Categorical (GH51645).\u001b[39;00m\n\u001b[32m   1501\u001b[39m action = \u001b[33m\"\u001b[39m\u001b[33mignore\u001b[39m\u001b[33m\"\u001b[39m \u001b[38;5;28;01mif\u001b[39;00m \u001b[38;5;28misinstance\u001b[39m(obj.dtype, CategoricalDtype) \u001b[38;5;28;01melse\u001b[39;00m \u001b[38;5;28;01mNone\u001b[39;00m\n\u001b[32m-> \u001b[39m\u001b[32m1502\u001b[39m mapped = \u001b[43mobj\u001b[49m\u001b[43m.\u001b[49m\u001b[43m_map_values\u001b[49m\u001b[43m(\u001b[49m\n\u001b[32m   1503\u001b[39m \u001b[43m    \u001b[49m\u001b[43mmapper\u001b[49m\u001b[43m=\u001b[49m\u001b[43mcurried\u001b[49m\u001b[43m,\u001b[49m\u001b[43m \u001b[49m\u001b[43mna_action\u001b[49m\u001b[43m=\u001b[49m\u001b[43maction\u001b[49m\u001b[43m,\u001b[49m\u001b[43m \u001b[49m\u001b[43mconvert\u001b[49m\u001b[43m=\u001b[49m\u001b[38;5;28;43mself\u001b[39;49m\u001b[43m.\u001b[49m\u001b[43mconvert_dtype\u001b[49m\n\u001b[32m   1504\u001b[39m \u001b[43m\u001b[49m\u001b[43m)\u001b[49m\n\u001b[32m   1506\u001b[39m \u001b[38;5;28;01mif\u001b[39;00m \u001b[38;5;28mlen\u001b[39m(mapped) \u001b[38;5;129;01mand\u001b[39;00m \u001b[38;5;28misinstance\u001b[39m(mapped[\u001b[32m0\u001b[39m], ABCSeries):\n\u001b[32m   1507\u001b[39m     \u001b[38;5;66;03m# GH#43986 Need to do list(mapped) in order to get treated as nested\u001b[39;00m\n\u001b[32m   1508\u001b[39m     \u001b[38;5;66;03m#  See also GH#25959 regarding EA support\u001b[39;00m\n\u001b[32m   1509\u001b[39m     \u001b[38;5;28;01mreturn\u001b[39;00m obj._constructor_expanddim(\u001b[38;5;28mlist\u001b[39m(mapped), index=obj.index)\n",
      "\u001b[36mFile \u001b[39m\u001b[32m/opt/conda/envs/dev/lib/python3.11/site-packages/pandas/core/base.py:925\u001b[39m, in \u001b[36mIndexOpsMixin._map_values\u001b[39m\u001b[34m(self, mapper, na_action, convert)\u001b[39m\n\u001b[32m    922\u001b[39m \u001b[38;5;28;01mif\u001b[39;00m \u001b[38;5;28misinstance\u001b[39m(arr, ExtensionArray):\n\u001b[32m    923\u001b[39m     \u001b[38;5;28;01mreturn\u001b[39;00m arr.map(mapper, na_action=na_action)\n\u001b[32m--> \u001b[39m\u001b[32m925\u001b[39m \u001b[38;5;28;01mreturn\u001b[39;00m \u001b[43malgorithms\u001b[49m\u001b[43m.\u001b[49m\u001b[43mmap_array\u001b[49m\u001b[43m(\u001b[49m\u001b[43marr\u001b[49m\u001b[43m,\u001b[49m\u001b[43m \u001b[49m\u001b[43mmapper\u001b[49m\u001b[43m,\u001b[49m\u001b[43m \u001b[49m\u001b[43mna_action\u001b[49m\u001b[43m=\u001b[49m\u001b[43mna_action\u001b[49m\u001b[43m,\u001b[49m\u001b[43m \u001b[49m\u001b[43mconvert\u001b[49m\u001b[43m=\u001b[49m\u001b[43mconvert\u001b[49m\u001b[43m)\u001b[49m\n",
      "\u001b[36mFile \u001b[39m\u001b[32m/opt/conda/envs/dev/lib/python3.11/site-packages/pandas/core/algorithms.py:1743\u001b[39m, in \u001b[36mmap_array\u001b[39m\u001b[34m(arr, mapper, na_action, convert)\u001b[39m\n\u001b[32m   1741\u001b[39m values = arr.astype(\u001b[38;5;28mobject\u001b[39m, copy=\u001b[38;5;28;01mFalse\u001b[39;00m)\n\u001b[32m   1742\u001b[39m \u001b[38;5;28;01mif\u001b[39;00m na_action \u001b[38;5;129;01mis\u001b[39;00m \u001b[38;5;28;01mNone\u001b[39;00m:\n\u001b[32m-> \u001b[39m\u001b[32m1743\u001b[39m     \u001b[38;5;28;01mreturn\u001b[39;00m \u001b[43mlib\u001b[49m\u001b[43m.\u001b[49m\u001b[43mmap_infer\u001b[49m\u001b[43m(\u001b[49m\u001b[43mvalues\u001b[49m\u001b[43m,\u001b[49m\u001b[43m \u001b[49m\u001b[43mmapper\u001b[49m\u001b[43m,\u001b[49m\u001b[43m \u001b[49m\u001b[43mconvert\u001b[49m\u001b[43m=\u001b[49m\u001b[43mconvert\u001b[49m\u001b[43m)\u001b[49m\n\u001b[32m   1744\u001b[39m \u001b[38;5;28;01melse\u001b[39;00m:\n\u001b[32m   1745\u001b[39m     \u001b[38;5;28;01mreturn\u001b[39;00m lib.map_infer_mask(\n\u001b[32m   1746\u001b[39m         values, mapper, mask=isna(values).view(np.uint8), convert=convert\n\u001b[32m   1747\u001b[39m     )\n",
      "\u001b[36mFile \u001b[39m\u001b[32mpandas/_libs/lib.pyx:2999\u001b[39m, in \u001b[36mpandas._libs.lib.map_infer\u001b[39m\u001b[34m()\u001b[39m\n",
      "\u001b[36mCell\u001b[39m\u001b[36m \u001b[39m\u001b[32mIn[52]\u001b[39m\u001b[32m, line 4\u001b[39m, in \u001b[36m<lambda>\u001b[39m\u001b[34m(words)\u001b[39m\n\u001b[32m      1\u001b[39m sw = stopwords.words(\u001b[33m'\u001b[39m\u001b[33menglish\u001b[39m\u001b[33m'\u001b[39m)\n\u001b[32m      2\u001b[39m titles_lower = titles.str.lower()\n\u001b[32m      3\u001b[39m titles_nostopwords = titles_lower.str.split().apply(\u001b[38;5;28;01mlambda\u001b[39;00m words: \u001b[33m'\u001b[39m\u001b[33m \u001b[39m\u001b[33m'\u001b[39m.join(\n\u001b[32m----> \u001b[39m\u001b[32m4\u001b[39m         \u001b[43m[\u001b[49m\u001b[43mw\u001b[49m\u001b[43m \u001b[49m\u001b[38;5;28;43;01mfor\u001b[39;49;00m\u001b[43m \u001b[49m\u001b[43mw\u001b[49m\u001b[43m \u001b[49m\u001b[38;5;129;43;01min\u001b[39;49;00m\u001b[43m \u001b[49m\u001b[43mwords\u001b[49m\u001b[43m \u001b[49m\u001b[38;5;28;43;01mif\u001b[39;49;00m\u001b[43m \u001b[49m\u001b[43mw\u001b[49m\u001b[43m \u001b[49m\u001b[38;5;129;43;01mnot\u001b[39;49;00m\u001b[43m \u001b[49m\u001b[38;5;129;43;01min\u001b[39;49;00m\u001b[43m \u001b[49m\u001b[43msw\u001b[49m\u001b[43m]\u001b[49m\n\u001b[32m      5\u001b[39m     ))\n\u001b[32m      6\u001b[39m titles_nopunctuation = titles_nostopwords.str.replace(\n\u001b[32m      7\u001b[39m     \u001b[33mr\u001b[39m\u001b[33m'\u001b[39m\u001b[33m[^\u001b[39m\u001b[33m\\\u001b[39m\u001b[33mw\u001b[39m\u001b[33m\\\u001b[39m\u001b[33ms]\u001b[39m\u001b[33m'\u001b[39m,\n\u001b[32m      8\u001b[39m     \u001b[33m'\u001b[39m\u001b[33m'\u001b[39m,\n\u001b[32m      9\u001b[39m     regex=\u001b[38;5;28;01mTrue\u001b[39;00m\n\u001b[32m     10\u001b[39m )\n\u001b[32m     11\u001b[39m titles_tokenized = titles_nopunctuation.apply(word_tokenize)\n",
      "\u001b[31mTypeError\u001b[39m: 'float' object is not iterable"
     ]
    }
   ],
   "source": [
    "sw = stopwords.words('english')\n",
    "titles_lower = titles.str.lower()\n",
    "titles_nostopwords = titles_lower.str.split().apply(lambda words: ' '.join(\n",
    "        [w for w in words if w not in sw]\n",
    "    ))\n",
    "titles_nopunctuation = titles_nostopwords.str.replace(\n",
    "    r'[^\\w\\s]',\n",
    "    '',\n",
    "    regex=True\n",
    ")\n",
    "titles_tokenized = titles_nopunctuation.apply(word_tokenize)\n",
    "titles_tokenized.head()\n",
    "lemmatizer = WordNetLemmatizer()\n",
    "titles.append(\"Tokens_Clean_Lemmatized\", titles_tokenized.apply(\n",
    "    lambda tokens: [lemmatizer.lemmatize(tok) for tok in tokens]\n",
    "))\n",
    "titles[\"Tokens_Clean_Lemmatized\"].head()"
   ]
  },
  {
   "cell_type": "code",
   "execution_count": null,
   "id": "f727e569-ff8e-4cec-a9a1-bd03f6e9b6c2",
   "metadata": {},
   "outputs": [],
   "source": []
  }
 ],
 "metadata": {
  "kernelspec": {
   "display_name": "Python 3 (ipykernel)",
   "language": "python",
   "name": "python3"
  },
  "language_info": {
   "codemirror_mode": {
    "name": "ipython",
    "version": 3
   },
   "file_extension": ".py",
   "mimetype": "text/x-python",
   "name": "python",
   "nbconvert_exporter": "python",
   "pygments_lexer": "ipython3",
   "version": "3.11.13"
  }
 },
 "nbformat": 4,
 "nbformat_minor": 5
}
